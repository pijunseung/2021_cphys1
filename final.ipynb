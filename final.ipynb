{
 "cells": [
  {
   "cell_type": "markdown",
   "metadata": {},
   "source": [
    "## 1. Random Walks\n",
    "* https://ko.wikipedia.org/wiki/%EB%AC%B4%EC%9E%91%EC%9C%84_%ED%96%89%EB%B3%B4\n",
    "\n",
    "(a) 1차원 랜덤워크 모형을 시뮬레이션으로 구현하여라. 구체적으로 1차원 격자에서 왼쪽으로 움직일 확률이 1/2, 오른쪽으로 움직일 확률이 1/2로 가정하자. 그리고 $t$시간이 지난 후에 입자가 존재하는 위치를 구하는 코드를 작성하여라. 초기에 입자는 원점에 존재하며 매 타임스텝마다 1번씩 움직인다. (몬테카를로 시뮬레이션)"
   ]
  },
  {
   "cell_type": "code",
   "execution_count": 1,
   "metadata": {},
   "outputs": [],
   "source": [
    "import random\n",
    "import numpy as np\n",
    "import scipy as sp\n",
    "import matplotlib\n",
    "import matplotlib.pyplot as plt \n",
    "%matplotlib inline"
   ]
  },
  {
   "cell_type": "code",
   "execution_count": 2,
   "metadata": {},
   "outputs": [
    {
     "name": "stdout",
     "output_type": "stream",
     "text": [
      "step: [  0.  -1.   0.  -1.  -2.  -1.   0.   1.   2.   1.   0.  -1.   0.   1.\n",
      "   0.  -1.  -2.  -3.  -2.  -1.  -2.  -1.   0.  -1.  -2.  -3.  -4.  -5.\n",
      "  -6.  -5.  -6.  -7.  -6.  -5.  -6.  -5.  -6.  -5.  -6.  -7.  -8.  -7.\n",
      "  -6.  -5.  -6.  -7.  -8.  -9.  -8.  -7.  -6.  -7.  -6.  -5.  -6.  -7.\n",
      "  -6.  -7.  -6.  -7.  -8.  -9.  -8.  -9.  -8.  -9.  -8.  -9. -10.  -9.\n",
      " -10.  -9.  -8.  -9. -10. -11. -12. -13. -12. -11. -10.  -9.  -8.  -9.\n",
      " -10. -11. -12. -11. -10.  -9.  -8.  -9.  -8.  -7.  -8.  -9.  -8.  -7.\n",
      "  -6.  -7.  -6.]\n",
      "position: -6.0\n"
     ]
    },
    {
     "data": {
      "text/plain": [
       "[-6.0]"
      ]
     },
     "execution_count": 2,
     "metadata": {},
     "output_type": "execute_result"
    },
    {
     "data": {
      "image/png": "[encoded data removed]",
      "text/plain": [
       "<Figure size 432x288 with 1 Axes>"
      ]
     },
     "metadata": {
      "needs_background": "light"
     },
     "output_type": "display_data"
    }
   ],
   "source": [
    "N = 1\n",
    "T = 100\n",
    "x = np.zeros((N, T+1))\n",
    "z=[]\n",
    "for t in range(1,T+1):\n",
    "    for i in range(N):\n",
    "        j=random.random()\n",
    "        if j>0.5:\n",
    "            x[i][t]=x[i][t-1]+1\n",
    "        elif j<0.5:\n",
    "            x[i][t]=x[i][t-1]-1\n",
    "for i in range(N):\n",
    "    print(\"step:\",x[i])\n",
    "    print(\"position:\",x[i][-1])\n",
    "    z.append(x[i][-1])\n",
    "    plt.plot(x[i])\n",
    "z"
   ]
  },
  {
   "cell_type": "markdown",
   "metadata": {},
   "source": [
    "(b) 이러한 시행을 충분히 많이 시행하여서 $t$시간 후에 입자가 특정 위치에 존재하는 확률 분포를 구하여라. (파이썬 기초)"
   ]
  },
  {
   "cell_type": "code",
   "execution_count": 3,
   "metadata": {},
   "outputs": [
    {
     "data": {
      "text/plain": [
       "[<matplotlib.lines.Line2D at 0x1b6e753c670>]"
      ]
     },
     "execution_count": 3,
     "metadata": {},
     "output_type": "execute_result"
    },
    {
     "data": {
      "image/png": "[encoded data removed]",
      "text/plain": [
       "<Figure size 432x288 with 1 Axes>"
      ]
     },
     "metadata": {
      "needs_background": "light"
     },
     "output_type": "display_data"
    }
   ],
   "source": [
    "from collections import Counter\n",
    "import pandas as pd\n",
    "\n",
    "N = 100000\n",
    "T = 100\n",
    "x = np.zeros((N, T+1))\n",
    "z=[]\n",
    "for t in range(1,T+1):\n",
    "    for i in range(N):\n",
    "        j=random.random()\n",
    "        if j>0.5:\n",
    "            x[i][t]=x[i][t-1]+1\n",
    "        elif j<0.5:\n",
    "            x[i][t]=x[i][t-1]-1\n",
    "for i in range(N):\n",
    "    z.append(x[i][-1])\n",
    "    \n",
    "zc=Counter(z)\n",
    "x=pd.Series(zc).values/N\n",
    "y=pd.Series(zc).index\n",
    "plt.ylabel(\"probability\")\n",
    "plt.xlabel(\"position\")\n",
    "plt.plot(y,x,'.')"
   ]
  },
  {
   "cell_type": "code",
   "execution_count": 4,
   "metadata": {},
   "outputs": [
    {
     "data": {
      "text/plain": [
       "Counter({10.0: 4870,\n",
       "         -4.0: 7340,\n",
       "         4.0: 7336,\n",
       "         -12.0: 3896,\n",
       "         0.0: 7893,\n",
       "         -6.0: 6730,\n",
       "         14.0: 3024,\n",
       "         -2.0: 7703,\n",
       "         2.0: 7715,\n",
       "         -8.0: 5932,\n",
       "         18.0: 1517,\n",
       "         12.0: 3866,\n",
       "         -18.0: 1643,\n",
       "         -10.0: 4893,\n",
       "         16.0: 2265,\n",
       "         6.0: 6702,\n",
       "         -14.0: 2991,\n",
       "         8.0: 5848,\n",
       "         22.0: 730,\n",
       "         -16.0: 2143,\n",
       "         -20.0: 1083,\n",
       "         26.0: 277,\n",
       "         20.0: 1099,\n",
       "         -22.0: 695,\n",
       "         -26.0: 266,\n",
       "         34.0: 31,\n",
       "         24.0: 446,\n",
       "         -24.0: 415,\n",
       "         -30.0: 97,\n",
       "         -28.0: 177,\n",
       "         32.0: 50,\n",
       "         36.0: 12,\n",
       "         28.0: 133,\n",
       "         30.0: 75,\n",
       "         -32.0: 49,\n",
       "         38.0: 7,\n",
       "         -34.0: 25,\n",
       "         -36.0: 14,\n",
       "         -40.0: 2,\n",
       "         -42.0: 3,\n",
       "         40.0: 5,\n",
       "         -38.0: 2})"
      ]
     },
     "execution_count": 4,
     "metadata": {},
     "output_type": "execute_result"
    }
   ],
   "source": [
    "# N번 시행했을 때 특정 위치에 존재할 경우의 수\n",
    "Counter(z)"
   ]
  },
  {
   "cell_type": "code",
   "execution_count": 5,
   "metadata": {},
   "outputs": [
    {
     "data": {
      "text/plain": [
       "0.07893"
      ]
     },
     "execution_count": 5,
     "metadata": {},
     "output_type": "execute_result"
    }
   ],
   "source": [
    "# N번 시행했을 때 특정 위치에 존재할 확률\n",
    "z.count(0)/N"
   ]
  },
  {
   "cell_type": "code",
   "execution_count": 6,
   "metadata": {},
   "outputs": [],
   "source": [
    "# N번 시행했을 때 x~y위치에 존재할 확률\n",
    "def p(x,y):\n",
    "    sum=0\n",
    "    for i in range(x,y+1):\n",
    "         \n",
    "        sum=sum+z.count(i)/N\n",
    "        i=i+1     \n",
    "    return sum"
   ]
  },
  {
   "cell_type": "code",
   "execution_count": 7,
   "metadata": {},
   "outputs": [
    {
     "data": {
      "text/plain": [
       "0.30646999999999996"
      ]
     },
     "execution_count": 7,
     "metadata": {},
     "output_type": "execute_result"
    }
   ],
   "source": [
    "p(-2,4)"
   ]
  },
  {
   "cell_type": "code",
   "execution_count": 8,
   "metadata": {},
   "outputs": [
    {
     "data": {
      "text/plain": [
       "0.30646999999999996"
      ]
     },
     "execution_count": 8,
     "metadata": {},
     "output_type": "execute_result"
    }
   ],
   "source": [
    "z.count(0)/N+z.count(1)/N+z.count(2)/N+z.count(3)/N+z.count(4)/N+z.count(-1)+z.count(-2)/N"
   ]
  },
  {
   "cell_type": "markdown",
   "metadata": {},
   "source": [
    "## 2. Bifurcation\n",
    "다음으로 주어지는 미분방정식이 있다.$$ \\frac{dx}{dt}= rx-x^2. $$\n",
    "\n",
    "(a) 이 방정식을 다음의 조건에서 풀고 궤적을 그려라. (미분방정식)"
   ]
  },
  {
   "cell_type": "markdown",
   "metadata": {},
   "source": [
    "1. r=-1, x(0)=2\n",
    "* r=-1, x(0)=-2\n",
    "* r=1, x(0)=2\n",
    "* r=1, x(0)=-2"
   ]
  },
  {
   "cell_type": "code",
   "execution_count": 9,
   "metadata": {},
   "outputs": [],
   "source": [
    "import numpy as np\n",
    "import sympy\n",
    "from sympy import Symbol\n",
    "from sympy import *\n",
    "import matplotlib\n",
    "import matplotlib.pyplot as plt \n",
    "%matplotlib inline"
   ]
  },
  {
   "cell_type": "code",
   "execution_count": 10,
   "metadata": {},
   "outputs": [
    {
     "data": {
      "text/plain": [
       "(x, Derivative(x(t), t))"
      ]
     },
     "execution_count": 10,
     "metadata": {},
     "output_type": "execute_result"
    }
   ],
   "source": [
    "r, t = sympy.symbols('r, t')\n",
    "x = Function('x')\n",
    "x, x(t).diff(t)"
   ]
  },
  {
   "cell_type": "code",
   "execution_count": 11,
   "metadata": {},
   "outputs": [
    {
     "data": {
      "text/latex": [
       "$\\displaystyle \\frac{d}{d t} x{\\left(t \\right)} = r x{\\left(t \\right)} - x^{2}{\\left(t \\right)}$"
      ],
      "text/plain": [
       "Eq(Derivative(x(t), t), r*x(t) - x(t)**2)"
      ]
     },
     "execution_count": 11,
     "metadata": {},
     "output_type": "execute_result"
    }
   ],
   "source": [
    "Eq(x(t).diff(t),r*x(t)-x(t)**2)"
   ]
  },
  {
   "cell_type": "code",
   "execution_count": 12,
   "metadata": {},
   "outputs": [
    {
     "data": {
      "text/latex": [
       "$\\displaystyle x{\\left(t \\right)} = \\frac{r e^{r \\left(C_{1} + t\\right)}}{e^{r \\left(C_{1} + t\\right)} - 1}$"
      ],
      "text/plain": [
       "Eq(x(t), r*exp(r*(C1 + t))/(exp(r*(C1 + t)) - 1))"
      ]
     },
     "execution_count": 12,
     "metadata": {},
     "output_type": "execute_result"
    }
   ],
   "source": [
    "sol = dsolve(Eq(x(t).diff(t),r*x(t)-x(t)**2))\n",
    "sol"
   ]
  },
  {
   "cell_type": "code",
   "execution_count": 13,
   "metadata": {},
   "outputs": [
    {
     "data": {
      "text/latex": [
       "$\\displaystyle x{\\left(t \\right)} = - \\frac{2}{3 \\left(\\frac{2}{3} - e^{t}\\right)}$"
      ],
      "text/plain": [
       "Eq(x(t), -2/(3*(2/3 - exp(t))))"
      ]
     },
     "execution_count": 13,
     "metadata": {},
     "output_type": "execute_result"
    }
   ],
   "source": [
    "# r=-1, x(0)=2\n",
    "r=-1\n",
    "sol = dsolve(Eq(x(t).diff(t),r*x(t)-x(t)**2), ics= {x(0):2})\n",
    "sol"
   ]
  },
  {
   "cell_type": "code",
   "execution_count": 14,
   "metadata": {},
   "outputs": [
    {
     "data": {
      "image/png": "[encoded data removed]",
      "text/plain": [
       "<Figure size 432x288 with 1 Axes>"
      ]
     },
     "metadata": {
      "needs_background": "light"
     },
     "output_type": "display_data"
    },
    {
     "data": {
      "text/plain": [
       "<sympy.plotting.plot.Plot at 0x1b6e9c0c8e0>"
      ]
     },
     "execution_count": 14,
     "metadata": {},
     "output_type": "execute_result"
    }
   ],
   "source": [
    "plot( sol.rhs, (t,-5,5),ylim=[-10,10])"
   ]
  },
  {
   "cell_type": "code",
   "execution_count": 15,
   "metadata": {},
   "outputs": [
    {
     "data": {
      "text/latex": [
       "$\\displaystyle x{\\left(t \\right)} = - \\frac{2}{2 - e^{t}}$"
      ],
      "text/plain": [
       "Eq(x(t), -2/(2 - exp(t)))"
      ]
     },
     "execution_count": 15,
     "metadata": {},
     "output_type": "execute_result"
    }
   ],
   "source": [
    "# r=-1, x(0)=-2\n",
    "r=-1\n",
    "sol = dsolve(Eq(x(t).diff(t),r*x(t)-x(t)**2), ics= {x(0):-2})\n",
    "sol"
   ]
  },
  {
   "cell_type": "code",
   "execution_count": 16,
   "metadata": {},
   "outputs": [
    {
     "data": {
      "image/png": "[encoded data removed]",
      "text/plain": [
       "<Figure size 432x288 with 1 Axes>"
      ]
     },
     "metadata": {
      "needs_background": "light"
     },
     "output_type": "display_data"
    },
    {
     "data": {
      "text/plain": [
       "<sympy.plotting.plot.Plot at 0x1b6e99e5910>"
      ]
     },
     "execution_count": 16,
     "metadata": {},
     "output_type": "execute_result"
    }
   ],
   "source": [
    "plot( sol.rhs, (t,-5,5),ylim=[-10,10])"
   ]
  },
  {
   "cell_type": "code",
   "execution_count": 17,
   "metadata": {},
   "outputs": [
    {
     "data": {
      "text/latex": [
       "$\\displaystyle x{\\left(t \\right)} = \\frac{1}{1 - \\frac{e^{- t}}{2}}$"
      ],
      "text/plain": [
       "Eq(x(t), 1/(1 - exp(-t)/2))"
      ]
     },
     "execution_count": 17,
     "metadata": {},
     "output_type": "execute_result"
    }
   ],
   "source": [
    "# r=1, x(0)=2\n",
    "r=1\n",
    "sol = dsolve(Eq(x(t).diff(t),r*x(t)-x(t)**2), ics= {x(0):2})\n",
    "sol"
   ]
  },
  {
   "cell_type": "code",
   "execution_count": 18,
   "metadata": {},
   "outputs": [
    {
     "data": {
      "image/png": "[encoded data removed]",
      "text/plain": [
       "<Figure size 432x288 with 1 Axes>"
      ]
     },
     "metadata": {
      "needs_background": "light"
     },
     "output_type": "display_data"
    },
    {
     "data": {
      "text/plain": [
       "<sympy.plotting.plot.Plot at 0x1b6e9bfa850>"
      ]
     },
     "execution_count": 18,
     "metadata": {},
     "output_type": "execute_result"
    }
   ],
   "source": [
    "plot( sol.rhs, (t,-5,5),ylim=[-10,10])"
   ]
  },
  {
   "cell_type": "code",
   "execution_count": 19,
   "metadata": {},
   "outputs": [
    {
     "data": {
      "text/latex": [
       "$\\displaystyle x{\\left(t \\right)} = \\frac{1}{1 - \\frac{3 e^{- t}}{2}}$"
      ],
      "text/plain": [
       "Eq(x(t), 1/(1 - 3*exp(-t)/2))"
      ]
     },
     "execution_count": 19,
     "metadata": {},
     "output_type": "execute_result"
    }
   ],
   "source": [
    "# r=1, x(0)=-2\n",
    "r=1\n",
    "sol = dsolve(Eq(x(t).diff(t),r*x(t)-x(t)**2), ics= {x(0):-2})\n",
    "sol"
   ]
  },
  {
   "cell_type": "code",
   "execution_count": 20,
   "metadata": {},
   "outputs": [
    {
     "data": {
      "image/png": "[encoded data removed]",
      "text/plain": [
       "<Figure size 432x288 with 1 Axes>"
      ]
     },
     "metadata": {
      "needs_background": "light"
     },
     "output_type": "display_data"
    },
    {
     "data": {
      "text/plain": [
       "<sympy.plotting.plot.Plot at 0x1b6e9d7faf0>"
      ]
     },
     "execution_count": 20,
     "metadata": {},
     "output_type": "execute_result"
    }
   ],
   "source": [
    "plot( sol.rhs, (t,-5,5),ylim=[-10,10])"
   ]
  },
  {
   "cell_type": "markdown",
   "metadata": {},
   "source": [
    "(b) 정상상태(dx/dt=0)에서 가능한 해를 구하여라. (방정식)\n",
    "\n",
    "즉, 다음의 조건에서 파이썬을 이용하여 방정식을 풀어라.$$ 0= rx -x^2 = x( r-x) $$"
   ]
  },
  {
   "cell_type": "markdown",
   "metadata": {},
   "source": [
    "1. r=-1\n",
    "*  r=1"
   ]
  },
  {
   "cell_type": "code",
   "execution_count": 21,
   "metadata": {},
   "outputs": [],
   "source": [
    "r, x = sympy.symbols('r, x')"
   ]
  },
  {
   "cell_type": "code",
   "execution_count": 22,
   "metadata": {},
   "outputs": [
    {
     "data": {
      "text/latex": [
       "$\\displaystyle - x \\left(- r + x\\right)$"
      ],
      "text/plain": [
       "-x*(-r + x)"
      ]
     },
     "execution_count": 22,
     "metadata": {},
     "output_type": "execute_result"
    }
   ],
   "source": [
    "sympy.factor(r*x-x**2)"
   ]
  },
  {
   "cell_type": "code",
   "execution_count": 23,
   "metadata": {},
   "outputs": [
    {
     "data": {
      "text/plain": [
       "[-1, 0]"
      ]
     },
     "execution_count": 23,
     "metadata": {},
     "output_type": "execute_result"
    }
   ],
   "source": [
    "# r=-1\n",
    "r=-1\n",
    "sympy.solve(r*x-x**2)"
   ]
  },
  {
   "cell_type": "code",
   "execution_count": 24,
   "metadata": {},
   "outputs": [
    {
     "data": {
      "text/plain": [
       "[0, 1]"
      ]
     },
     "execution_count": 24,
     "metadata": {},
     "output_type": "execute_result"
    }
   ],
   "source": [
    "# r=1\n",
    "r=1\n",
    "sympy.solve(r*x-x**2)"
   ]
  },
  {
   "cell_type": "code",
   "execution_count": null,
   "metadata": {},
   "outputs": [],
   "source": []
  }
 ],
 "metadata": {
  "kernelspec": {
   "display_name": "Python 3",
   "language": "python",
   "name": "python3"
  },
  "language_info": {
   "codemirror_mode": {
    "name": "ipython",
    "version": 3
   },
   "file_extension": ".py",
   "mimetype": "text/x-python",
   "name": "python",
   "nbconvert_exporter": "python",
   "pygments_lexer": "ipython3",
   "version": "3.8.3"
  }
 },
 "nbformat": 4,
 "nbformat_minor": 4
}
