{
 "cells": [
  {
   "cell_type": "markdown",
   "metadata": {},
   "source": [
    "## Logistic Map"
   ]
  },
  {
   "cell_type": "markdown",
   "metadata": {},
   "source": [
    "로지스틱 맵은 다음처럼 주어진다.$$ f_{n+1} = r f_n (1- f_n). $$\n",
    "\n",
    "주어진 $r$과 초기조건 $f_0$에 대해, 반복문(while or for)을 이용해서 $n$이 1~10일 때 $f_n$을 구하여라.\n",
    "\n",
    "Reference:\n",
    "https://ko.wikipedia.org/wiki/%EB%A1%9C%EC%A7%80%EC%8A%A4%ED%8B%B1_%EC%82%AC%EC%83%81\n",
    "\n",
    "1. $r=0.5$, $f_0=0.5$\n",
    "2. $r=2.5$, $f_0=0.5$\n",
    "3. $r=4.5$, $f_0=0.5$\n",
    "4. $r=4.5$, $f_0=0.51$"
   ]
  },
  {
   "cell_type": "code",
   "execution_count": null,
   "metadata": {},
   "outputs": [],
   "source": []
  }
 ],
 "metadata": {
  "kernelspec": {
   "display_name": "Python 3",
   "language": "python",
   "name": "python3"
  },
  "language_info": {
   "codemirror_mode": {
    "name": "ipython",
    "version": 3
   },
   "file_extension": ".py",
   "mimetype": "text/x-python",
   "name": "python",
   "nbconvert_exporter": "python",
   "pygments_lexer": "ipython3",
   "version": "3.8.3"
  }
 },
 "nbformat": 4,
 "nbformat_minor": 4
}
