{
 "cells": [
  {
   "cell_type": "markdown",
   "metadata": {},
   "source": [
    "## Logistic Map"
   ]
  },
  {
   "cell_type": "markdown",
   "metadata": {},
   "source": [
    "로지스틱 맵은 다음처럼 주어진다.$$ f_{n+1} = r f_n (1- f_n). $$\n",
    "\n",
    "주어진 $r$과 초기조건 $f_0$에 대해, 반복문(while or for)을 이용해서 $n$이 1~10일 때 $f_n$을 구하여라.\n",
    "\n",
    "Reference:\n",
    "https://ko.wikipedia.org/wiki/%EB%A1%9C%EC%A7%80%EC%8A%A4%ED%8B%B1_%EC%82%AC%EC%83%81\n",
    "\n",
    "1. $r=0.5$, $f_0=0.5$\n",
    "2. $r=2.5$, $f_0=0.5$\n",
    "3. $r=4.5$, $f_0=0.5$\n",
    "4. $r=4.5$, $f_0=0.51$"
   ]
  },
  {
   "cell_type": "code",
   "execution_count": 34,
   "metadata": {},
   "outputs": [
    {
     "ename": "SyntaxError",
     "evalue": "invalid syntax (<ipython-input-34-bf83021080a7>, line 1)",
     "output_type": "error",
     "traceback": [
      "\u001b[1;36m  File \u001b[1;32m\"<ipython-input-34-bf83021080a7>\"\u001b[1;36m, line \u001b[1;32m1\u001b[0m\n\u001b[1;33m    f_{n+1} = 0.5\u001b[0m\n\u001b[1;37m      ^\u001b[0m\n\u001b[1;31mSyntaxError\u001b[0m\u001b[1;31m:\u001b[0m invalid syntax\n"
     ]
    }
   ],
   "source": [
    "\n"
   ]
  },
  {
   "cell_type": "code",
   "execution_count": null,
   "metadata": {},
   "outputs": [],
   "source": [
    "m = int(input('m:'))\n",
    "n = int(input('n:'))\n",
    "R = 1.097*10**7\n",
    "for m in range(1,m+1):\n",
    "    for n in range(1,n+1):\n",
    "        if m < n:\n",
    "            ramda = 1/(R*(1/m**2-1/n**2))\n",
    "            print(ramda)"
   ]
  },
  {
   "cell_type": "code",
   "execution_count": 9,
   "metadata": {},
   "outputs": [
    {
     "name": "stdout",
     "output_type": "stream",
     "text": [
      "1\n",
      "2\n",
      "3\n",
      "4\n",
      "5\n",
      "6\n",
      "7\n",
      "8\n",
      "9\n"
     ]
    }
   ],
   "source": [
    "for i in range(1,10):\n",
    "    print(i)"
   ]
  },
  {
   "cell_type": "code",
   "execution_count": 6,
   "metadata": {},
   "outputs": [
    {
     "name": "stdout",
     "output_type": "stream",
     "text": [
      "n:4\n",
      "k:2\n"
     ]
    },
    {
     "data": {
      "text/plain": [
       "6.0"
      ]
     },
     "execution_count": 6,
     "metadata": {},
     "output_type": "execute_result"
    }
   ],
   "source": [
    "n = int(input('n:'))\n",
    "k = int(input('k:'))\n",
    "def facto(n):\n",
    "    f = 1.0\n",
    "    for i in range(1,n+1):\n",
    "        f *= i\n",
    "    return f\n",
    "def facto(k):\n",
    "    g = 1.0\n",
    "    for i in range(1,k+1):\n",
    "        g *= i\n",
    "    return g\n",
    "facto(n)/facto(k)/facto(n-k)"
   ]
  },
  {
   "cell_type": "code",
   "execution_count": null,
   "metadata": {},
   "outputs": [],
   "source": []
  }
 ],
 "metadata": {
  "kernelspec": {
   "display_name": "Python 3",
   "language": "python",
   "name": "python3"
  },
  "language_info": {
   "codemirror_mode": {
    "name": "ipython",
    "version": 3
   },
   "file_extension": ".py",
   "mimetype": "text/x-python",
   "name": "python",
   "nbconvert_exporter": "python",
   "pygments_lexer": "ipython3",
   "version": "3.8.3"
  }
 },
 "nbformat": 4,
 "nbformat_minor": 4
}
