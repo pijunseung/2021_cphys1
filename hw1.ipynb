{
 "cells": [
  {
   "cell_type": "markdown",
   "metadata": {},
   "source": [
    "## Logistic Map"
   ]
  },
  {
   "cell_type": "markdown",
   "metadata": {},
   "source": [
    "로지스틱 맵은 다음처럼 주어진다.$$ f_{n+1} = r f_n (1- f_n). $$\n",
    "\n",
    "주어진 $r$과 초기조건 $f_0$에 대해, 반복문(while or for)을 이용해서 $n$이 1~10일 때 $f_n$을 구하여라.\n",
    "\n",
    "Reference:\n",
    "https://ko.wikipedia.org/wiki/%EB%A1%9C%EC%A7%80%EC%8A%A4%ED%8B%B1_%EC%82%AC%EC%83%81\n",
    "\n",
    "1. $r=0.5$, $f_0=0.5$\n",
    "2. $r=2.5$, $f_0=0.5$\n",
    "3. $r=4.5$, $f_0=0.5$\n",
    "4. $r=4.5$, $f_0=0.51$"
   ]
  },
  {
   "cell_type": "code",
   "execution_count": 16,
   "metadata": {},
   "outputs": [
    {
     "name": "stdout",
     "output_type": "stream",
     "text": [
      "1 0.125\n",
      "2 0.0546875\n",
      "3 0.025848388671875\n",
      "4 0.012590124737471342\n",
      "5 0.006215806748283127\n",
      "6 0.0030885852473755623\n",
      "7 0.0015395229442726282\n",
      "8 0.0007685764066883431\n",
      "9 0.00038399284849771257\n",
      "10 0.0001919226989950076\n"
     ]
    }
   ],
   "source": [
    "r = 0.5\n",
    "f = 0.5\n",
    "\n",
    "for n in range(1,11):\n",
    "    f = r*f*(1-f)\n",
    "    print(n,f)"
   ]
  },
  {
   "cell_type": "code",
   "execution_count": 17,
   "metadata": {},
   "outputs": [
    {
     "name": "stdout",
     "output_type": "stream",
     "text": [
      "1 0.625\n",
      "2 0.5859375\n",
      "3 0.606536865234375\n",
      "4 0.5966247408650815\n",
      "5 0.6016591486318896\n",
      "6 0.5991635437485985\n",
      "7 0.6004164789780495\n",
      "8 0.5997913268741273\n",
      "9 0.6001042277017528\n",
      "10 0.599947858990589\n"
     ]
    }
   ],
   "source": [
    "r = 2.5\n",
    "f = 0.5\n",
    "\n",
    "for n in range(1,11):\n",
    "    f = r*f*(1-f)\n",
    "    print(n,f)"
   ]
  },
  {
   "cell_type": "code",
   "execution_count": 18,
   "metadata": {},
   "outputs": [
    {
     "name": "stdout",
     "output_type": "stream",
     "text": [
      "1 1.125\n",
      "2 -0.6328125\n",
      "3 -4.649688720703125\n",
      "4 -118.21182264061645\n",
      "5 -63415.11075595729\n",
      "6 -18096928592.854885\n",
      "7 -1.4737447103084353e+21\n",
      "8 -9.773655620229423e+42\n",
      "9 -4.298595488227898e+86\n",
      "10 -8.315065427135959e+173\n"
     ]
    }
   ],
   "source": [
    "r = 4.5\n",
    "f = 0.5\n",
    "\n",
    "for n in range(1,11):\n",
    "    f = r*f*(1-f)\n",
    "    print(n,f)"
   ]
  },
  {
   "cell_type": "code",
   "execution_count": 19,
   "metadata": {},
   "outputs": [
    {
     "name": "stdout",
     "output_type": "stream",
     "text": [
      "1 1.12455\n",
      "2 -0.6302821612499996\n",
      "3 -4.623919938179865\n",
      "4 -117.0204998979472\n",
      "5 -62148.68053318534\n",
      "6 -17381342883.134087\n",
      "7 -1.359499861973058e+21\n",
      "8 -8.317079436171436e+42\n",
      "9 -3.11282146564136e+86\n",
      "10 -4.360345864630932e+173\n"
     ]
    }
   ],
   "source": [
    "r = 4.5\n",
    "f = 0.51\n",
    "\n",
    "for n in range(1,11):\n",
    "    f = r*f*(1-f)\n",
    "    print(n,f)"
   ]
  }
 ],
 "metadata": {
  "kernelspec": {
   "display_name": "Python 3",
   "language": "python",
   "name": "python3"
  }
 },
 "nbformat": 4,
 "nbformat_minor": 4
}
