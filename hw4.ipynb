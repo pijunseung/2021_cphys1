{
 "cells": [
  {
   "cell_type": "markdown",
   "metadata": {},
   "source": [
    "## 1. Error Function"
   ]
  },
  {
   "cell_type": "code",
   "execution_count": 1,
   "metadata": {},
   "outputs": [],
   "source": [
    "import matplotlib.pyplot as plt\n",
    "import numpy as np\n",
    "from scipy import integrate"
   ]
  },
  {
   "cell_type": "markdown",
   "metadata": {},
   "source": [
    "$$ erf(x) = \\frac{2}{\\sqrt{\\pi}} \\int_0^x e^{-t^2} dt. $$,\n",
    "* 위와 같이 주어지는 에러함수를 수치적분을 이용하여 구하고 그래프를 그려라. (어떤 방법을 이용하든 관계없음)\n",
    "\n",
    "$$\n",
    "    \\begin{align}\n",
    "    erf(x) &= \\frac{2}{\\pi} \\sum_{n=0}^{\\infty} \\frac{ (-1)^n x^{2n+1}} { (2n+1) n!} \\ \\ \\ \\ \\ \\ \\ \\ \\ \\ \\ \\ \\ \\ \\ \\ \\ \\ \\ \\ \\ \\ (1)  \\\\\n",
    "    &= \\frac{2}{\\pi} \\left( x - \\frac{x^3}{3} + \\frac{x^5}{10} - \\frac{x^7}{42} + \\cdots \\right) (2)\n",
    "    \\end{align}\n",
    "    $$\n",
    "* 에러함수를 테일러 전개하면 위와 같이 주어진다. 위의 전개식과 적분결과를 그래프로 그리고 비교하여라."
   ]
  },
  {
   "cell_type": "code",
   "execution_count": 65,
   "metadata": {},
   "outputs": [
    {
     "name": "stdout",
     "output_type": "stream",
     "text": [
      "0.8795880713775148\n"
     ]
    },
    {
     "data": {
      "text/plain": [
       "<matplotlib.collections.PolyCollection at 0x1967ddbadf0>"
      ]
     },
     "execution_count": 65,
     "metadata": {},
     "output_type": "execute_result"
    },
    {
     "data": {
      "image/png": "[encoded data removed]",
      "text/plain": [
       "<Figure size 864x216 with 1 Axes>"
      ]
     },
     "metadata": {
      "needs_background": "light"
     },
     "output_type": "display_data"
    }
   ],
   "source": [
    "def erf(t):\n",
    "    return (2/(np.pi)**0.5)*np.exp(-t**2)\n",
    "\n",
    "def integ(erf,a,x,dt):\n",
    "    s, t = 0, a\n",
    "    while(t<x):\n",
    "        s += 0.5*dt*(erf(t+dt)+erf(t))\n",
    "        t += dt\n",
    "    return s\n",
    "print(integ(erf,0,1,0.1))\n",
    "\n",
    "x = np.arange(0,6,0.01)\n",
    "x1 = np.arange(0,6,0.1)\n",
    "plt.figure(figsize=(12,3));\n",
    "plt.xlim(0,6);plt.ylim(0,1.25)\n",
    "plt.plot(x,erf(x))\n",
    "plt.plot(x1,erf(x1),'.')\n",
    "plt.fill_between(x1,erf(x1),alpha=0.2)"
   ]
  },
  {
   "cell_type": "code",
   "execution_count": 68,
   "metadata": {},
   "outputs": [
    {
     "data": {
      "text/plain": [
       "(0.9999779095030012, 3.584660848890831e-11)"
      ]
     },
     "execution_count": 68,
     "metadata": {},
     "output_type": "execute_result"
    }
   ],
   "source": [
    "integrate.quad(erf,0,3)"
   ]
  },
  {
   "cell_type": "code",
   "execution_count": 73,
   "metadata": {},
   "outputs": [
    {
     "data": {
      "text/plain": [
       "[<matplotlib.lines.Line2D at 0x1967df78f40>]"
      ]
     },
     "execution_count": 73,
     "metadata": {},
     "output_type": "execute_result"
    },
    {
     "data": {
      "image/png": "[encoded data removed]",
      "text/plain": [
       "<Figure size 432x288 with 1 Axes>"
      ]
     },
     "metadata": {
      "needs_background": "light"
     },
     "output_type": "display_data"
    }
   ],
   "source": [
    "def facto(n):\n",
    "    f = 1.0\n",
    "    for i in range(1,n+1):\n",
    "        f *= i\n",
    "    return f\n",
    "\n",
    "def t(n):\n",
    "    i, f = 0, 0\n",
    "    while (i<=n):\n",
    "        f = f + (((-1)**i)*(x**(2*i+1)))/((2*i+1)*facto(i))\n",
    "        i = i+1\n",
    "    return f\n",
    "\n",
    "def T(n):\n",
    "    return 2*np.pi**(-0.5)*t(n)\n",
    "x=np.arange(0,6,0.1)\n",
    "plt.plot(x,T(100))"
   ]
  },
  {
   "cell_type": "code",
   "execution_count": 26,
   "metadata": {},
   "outputs": [
    {
     "data": {
      "text/plain": [
       "0.8650906947732263"
      ]
     },
     "execution_count": 26,
     "metadata": {},
     "output_type": "execute_result"
    }
   ],
   "source": [
    "T(2)"
   ]
  },
  {
   "cell_type": "markdown",
   "metadata": {},
   "source": [
    "## 2. (Integration) Trigonometric Function\n",
    "* sin, cos함수를 trapezoidal 방법을 이용하여 직접 적분하고 그래프를 그려라.\n",
    "* sin, cos함수를 scipy.integrate 함수를 이용하여 적분하고 그래프를 그려라."
   ]
  },
  {
   "cell_type": "markdown",
   "metadata": {},
   "source": [
    "## 3. (Differentiation) Trigonometric Function\n",
    "* sin, cos함수의 도함수를 finite difference 방법을 이용하여 구현하고 그래프를 그려라.\n",
    "* sin, cos함수의 도함수를 scipy.misc.derivative 함수를 이용하여 구하고 그래프를 그려라."
   ]
  }
 ],
 "metadata": {
  "kernelspec": {
   "display_name": "Python 3",
   "language": "python",
   "name": "python3"
  },
  "language_info": {
   "codemirror_mode": {
    "name": "ipython",
    "version": 3
   },
   "file_extension": ".py",
   "mimetype": "text/x-python",
   "name": "python",
   "nbconvert_exporter": "python",
   "pygments_lexer": "ipython3",
   "version": "3.8.3"
  }
 },
 "nbformat": 4,
 "nbformat_minor": 4
}
